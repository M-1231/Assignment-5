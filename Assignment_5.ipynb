{
  "nbformat": 4,
  "nbformat_minor": 0,
  "metadata": {
    "colab": {
      "provenance": []
    },
    "kernelspec": {
      "name": "python3",
      "display_name": "Python 3"
    },
    "language_info": {
      "name": "python"
    }
  },
  "cells": [
    {
      "cell_type": "code",
      "execution_count": 1,
      "metadata": {
        "id": "ggSb4VOgCWKW"
      },
      "outputs": [],
      "source": [
        "#Q.1\n",
        "class vehicle:\n",
        "    def __init__(self,name_of_vehicle,max_speed,average_of_vehicle):\n",
        "      self.name_of_vehicle=name_of_vehicle\n",
        "      self.max_speed=max_speed\n",
        "      self.average_of_vehicle=average_of_vehicle\n",
        "\n",
        "    def return_vehicle_details(self):\n",
        "      return self.name_of_vehicle,self.max_speed,self.average_of_vehicle\n",
        ""
      ]
    },
    {
      "cell_type": "code",
      "source": [
        "mahima = vehicle (\"maruti\", 200, 80)"
      ],
      "metadata": {
        "id": "V1cl1g-fCkKO"
      },
      "execution_count": 2,
      "outputs": []
    },
    {
      "cell_type": "code",
      "source": [
        "mahima.max_speed"
      ],
      "metadata": {
        "colab": {
          "base_uri": "https://localhost:8080/"
        },
        "id": "_lmEIGZFCz_t",
        "outputId": "9684f5d1-20ed-4781-cdf9-fc8baa534ddb"
      },
      "execution_count": 3,
      "outputs": [
        {
          "output_type": "execute_result",
          "data": {
            "text/plain": [
              "200"
            ]
          },
          "metadata": {},
          "execution_count": 3
        }
      ]
    },
    {
      "cell_type": "code",
      "source": [
        "#Q.2\n",
        "class vehicle:\n",
        "    def __init__(self,name_of_vehicle,max_speed,average_of_vehicle):\n",
        "      self.name_of_vehicle=name_of_vehicle\n",
        "      self.max_speed=max_speed\n",
        "      self.average_of_vehicle=average_of_vehicle\n",
        "\n",
        "    def return_vehicle_details(self):\n",
        "      return self.name_of_vehicle,self.max_speed,self.average_of_vehicle\n",
        "    def seating_capacity(self,capacity,name_of_vehicle):\n",
        "        self.capacity=capacity\n",
        "        self.name_of_vehicle=name_of_vehicle"
      ],
      "metadata": {
        "id": "YUK43SjVYL62"
      },
      "execution_count": 67,
      "outputs": []
    },
    {
      "cell_type": "code",
      "source": [
        "class car(vehicle):\n",
        "  def return_vehicle_details(self):\n",
        "    for i in vehicle:\n",
        "       i.seating_capacity()"
      ],
      "metadata": {
        "id": "1k98r3hpYUsE"
      },
      "execution_count": 68,
      "outputs": []
    },
    {
      "cell_type": "code",
      "source": [
        "obj= car(\"toyota\",200,100)"
      ],
      "metadata": {
        "id": "VUlleA2qZce9"
      },
      "execution_count": 69,
      "outputs": []
    },
    {
      "cell_type": "code",
      "source": [
        "obj.seating_capacity(6,\"toyota\")"
      ],
      "metadata": {
        "id": "Eu1M3abVZqnL"
      },
      "execution_count": 70,
      "outputs": []
    },
    {
      "cell_type": "code",
      "source": [
        "obj.capacity"
      ],
      "metadata": {
        "colab": {
          "base_uri": "https://localhost:8080/"
        },
        "id": "2kgDGbXza0Jb",
        "outputId": "75e8aa59-814b-4802-9a22-fa5f951cead9"
      },
      "execution_count": 72,
      "outputs": [
        {
          "output_type": "execute_result",
          "data": {
            "text/plain": [
              "6"
            ]
          },
          "metadata": {},
          "execution_count": 72
        }
      ]
    },
    {
      "cell_type": "code",
      "source": [
        "obj.name_of_vehicle"
      ],
      "metadata": {
        "colab": {
          "base_uri": "https://localhost:8080/",
          "height": 35
        },
        "id": "IKGKU87cbBXV",
        "outputId": "9223b1e6-81d8-4a5c-e576-da09681c8818"
      },
      "execution_count": 73,
      "outputs": [
        {
          "output_type": "execute_result",
          "data": {
            "text/plain": [
              "'toyota'"
            ],
            "application/vnd.google.colaboratory.intrinsic+json": {
              "type": "string"
            }
          },
          "metadata": {},
          "execution_count": 73
        }
      ]
    },
    {
      "cell_type": "code",
      "source": [
        "#Q.3 Inheritance is the mechanism to achieve the re-usability of code as one class(child class) can derive the properties of another class(parent class).When a class is derived from more than one base class it is called multiple Inheritance. The derived class inherits all the features of the base case.\n",
        "class class1:\n",
        "\n",
        "  def m1(self):\n",
        "    print(\"this is class 1\")\n"
      ],
      "metadata": {
        "id": "JWE344WPC5Yt"
      },
      "execution_count": 15,
      "outputs": []
    },
    {
      "cell_type": "code",
      "source": [
        "class class2:\n",
        "\n",
        "   def m2(self):\n",
        "      print(\"this is class 2\")"
      ],
      "metadata": {
        "id": "6e0whogoET34"
      },
      "execution_count": 16,
      "outputs": []
    },
    {
      "cell_type": "code",
      "source": [
        "class class3 (class1,class2):\n",
        "  pass"
      ],
      "metadata": {
        "id": "6uHYbKV-Gi1Q"
      },
      "execution_count": 17,
      "outputs": []
    },
    {
      "cell_type": "code",
      "source": [
        "obj_class3 = class3()"
      ],
      "metadata": {
        "id": "AePiU2rqGr07"
      },
      "execution_count": 18,
      "outputs": []
    },
    {
      "cell_type": "code",
      "source": [
        "obj_class3.m1()"
      ],
      "metadata": {
        "colab": {
          "base_uri": "https://localhost:8080/"
        },
        "id": "hEbSKRPsHTMc",
        "outputId": "694e1400-95c1-4d20-9565-d5a691004348"
      },
      "execution_count": 19,
      "outputs": [
        {
          "output_type": "stream",
          "name": "stdout",
          "text": [
            "this is class 1\n"
          ]
        }
      ]
    },
    {
      "cell_type": "code",
      "source": [
        "obj_class3.m2()"
      ],
      "metadata": {
        "colab": {
          "base_uri": "https://localhost:8080/"
        },
        "id": "X8xAju5jHYdc",
        "outputId": "e95d2c16-e357-4678-cbda-962c13fec6c2"
      },
      "execution_count": 20,
      "outputs": [
        {
          "output_type": "stream",
          "name": "stdout",
          "text": [
            "this is class 2\n"
          ]
        }
      ]
    },
    {
      "cell_type": "code",
      "source": [
        "#Q.4 getters and setters in object-oriented programming is used to ensure data encapsulation. We use getters & setters to add validation logic around getting and setting a value."
      ],
      "metadata": {
        "id": "AMZnePokHxz3"
      },
      "execution_count": null,
      "outputs": []
    },
    {
      "cell_type": "code",
      "source": [
        "\n",
        "class student:\n",
        "\n",
        "  def __init__(self,name,id):\n",
        "    self.__age =0\n",
        "    self.name=name\n",
        "    self.id=id\n",
        "\n",
        "  def getter(self):\n",
        "    return self.__age\n",
        "  def setter(self,a):\n",
        "    self.__age = a"
      ],
      "metadata": {
        "id": "bZ-Ve1ZWJAvk"
      },
      "execution_count": 76,
      "outputs": []
    },
    {
      "cell_type": "code",
      "source": [
        "obj=student(\"mahima\",100)\n",
        "obj.setter(20)\n",
        "obj.getter()\n"
      ],
      "metadata": {
        "colab": {
          "base_uri": "https://localhost:8080/"
        },
        "id": "ZfRPQuzxI_EA",
        "outputId": "b7ba7a7b-f32f-4b44-e7c8-fd9ae51a9b1f"
      },
      "execution_count": 77,
      "outputs": [
        {
          "output_type": "execute_result",
          "data": {
            "text/plain": [
              "20"
            ]
          },
          "metadata": {},
          "execution_count": 77
        }
      ]
    },
    {
      "cell_type": "code",
      "source": [
        "#Q.5 Method overriding is a method in a subclass that replaces a method in a superclass when both methods share the same name, parameters, signature, and return type.\n",
        "#1\n",
        "class class1:\n",
        "  def display(self):\n",
        "    print(\" I am in class1\")\n"
      ],
      "metadata": {
        "id": "2UOFknkoOqlr"
      },
      "execution_count": 50,
      "outputs": []
    },
    {
      "cell_type": "code",
      "source": [
        "class class2:\n",
        "  def display(self):\n",
        "    print(\"I am in class2\")"
      ],
      "metadata": {
        "id": "9cDmFnqlUjjt"
      },
      "execution_count": 52,
      "outputs": []
    },
    {
      "cell_type": "code",
      "source": [
        "class class3(class1,class2):\n",
        "  def display(self):\n",
        "    print(\"I am in class3\")"
      ],
      "metadata": {
        "id": "J22BUI2DWH4p"
      },
      "execution_count": 51,
      "outputs": []
    },
    {
      "cell_type": "code",
      "source": [
        "obj=class3()\n",
        "obj.display()\n"
      ],
      "metadata": {
        "colab": {
          "base_uri": "https://localhost:8080/"
        },
        "id": "7yt5h3ZhXXqM",
        "outputId": "f245844a-370f-43b6-8960-443976a909bb"
      },
      "execution_count": 53,
      "outputs": [
        {
          "output_type": "stream",
          "name": "stdout",
          "text": [
            "I am in class3\n"
          ]
        }
      ]
    },
    {
      "cell_type": "code",
      "source": [
        "#2\n",
        "class test:\n",
        "\n",
        "  def __init__(self,a,b):\n",
        "    self.a=a*a\n",
        "    self.b=b*b\n"
      ],
      "metadata": {
        "id": "kFdvMf2tXfL7"
      },
      "execution_count": 78,
      "outputs": []
    },
    {
      "cell_type": "code",
      "source": [
        "m=test(4,5)"
      ],
      "metadata": {
        "id": "Rut05WDYfuKm"
      },
      "execution_count": 79,
      "outputs": []
    },
    {
      "cell_type": "code",
      "source": [
        "m.b"
      ],
      "metadata": {
        "id": "N_mWD9k3f2dr",
        "outputId": "e347116c-129c-43db-e5c4-036ca7f7fe2a",
        "colab": {
          "base_uri": "https://localhost:8080/"
        }
      },
      "execution_count": 80,
      "outputs": [
        {
          "output_type": "execute_result",
          "data": {
            "text/plain": [
              "25"
            ]
          },
          "metadata": {},
          "execution_count": 80
        }
      ]
    },
    {
      "cell_type": "code",
      "source": [
        "m.b=729"
      ],
      "metadata": {
        "id": "1UW6oo3Vf6l8"
      },
      "execution_count": 81,
      "outputs": []
    },
    {
      "cell_type": "code",
      "source": [
        "m.b"
      ],
      "metadata": {
        "id": "uOj1yA0igAXz",
        "outputId": "cf363750-3638-4d81-dae1-2f482fdbe031",
        "colab": {
          "base_uri": "https://localhost:8080/"
        }
      },
      "execution_count": 82,
      "outputs": [
        {
          "output_type": "execute_result",
          "data": {
            "text/plain": [
              "729"
            ]
          },
          "metadata": {},
          "execution_count": 82
        }
      ]
    },
    {
      "cell_type": "code",
      "source": [],
      "metadata": {
        "id": "-_HXbyGjgBkf"
      },
      "execution_count": null,
      "outputs": []
    }
  ]
}